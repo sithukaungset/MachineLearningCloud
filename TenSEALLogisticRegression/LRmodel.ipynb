{
 "cells": [
  {
   "cell_type": "code",
   "execution_count": null,
   "metadata": {},
   "outputs": [],
   "source": [
    "import pandas as pd\n",
    "import numpy as np\n",
    "from sklearn.ensemble import RandomForestClassifier\n",
    "\n",
    "# Read data into pandas dataframe\n",
    "df = pd.read_csv('../data/framingham.csv')\n",
    "\n",
    "# Define Feature Matrix (X) and Label Array (y)\n",
    "X = df.drop(['TenYearCHD',\"education\",\"currentSmoker\", \"BPMeds\", \"diabetes\", \"diaBP\", \"BMI\"], axis=1)\n",
    "y = df['TenYearCHD']\n",
    "print(X)\n",
    "df = df.reset_index()\n",
    "\n",
    "X.fillna(method = 'ffill', inplace = True)\n",
    "y.fillna(method = 'ffill', inplace = True)\n",
    "\n"
   ]
  },
  {
   "cell_type": "code",
   "execution_count": null,
   "metadata": {},
   "outputs": [],
   "source": [
    "from sklearn.model_selection import train_test_split\n",
    "X_train, X_test, y_train, y_test= train_test_split(X, y, test_size=0.2, random_state=0)\n",
    "\n",
    "\n",
    "from sklearn.linear_model import LogisticRegression\n",
    "lrc=LogisticRegression()\n",
    "lrc.fit(X_train,y_train)\n",
    "y_pred_log=lrc.predict(X_test)\n",
    "print(\"Logistic Regression Accuracy \",lrc.score(X_test,y_test))"
   ]
  },
  {
   "cell_type": "code",
   "execution_count": null,
   "metadata": {},
   "outputs": [],
   "source": [
    "\n",
    "# Serialize the model and save\n",
    "import joblib\n",
    "joblib.dump(lrc, 'heartLR.pkl')\n",
    "print(\"Logistic Regression Model Saved\")\n",
    "\n",
    "# Load the model\n",
    "lrc = joblib.load('heartLR.pkl')\n",
    "\n",
    "# Save features from training\n",
    "lrc_columns = list(X.columns)\n",
    "joblib.dump(lrc_columns, 'lrc_columns.pkl')\n",
    "print(\"Logistic Regression Model Columns Saved\")"
   ]
  }
 ],
 "metadata": {
  "kernelspec": {
   "display_name": "Python 3.8.10 64-bit",
   "name": "python3810jvsc74a57bd031f2aee4e71d21fbe5cf8b01ff0e069b9275f58929596ceb00d14d90e3e16cd6"
  },
  "language_info": {
   "name": "python",
   "version": ""
  },
  "orig_nbformat": 2
 },
 "nbformat": 4,
 "nbformat_minor": 2
}