{
 "cells": [
  {
   "cell_type": "code",
   "execution_count": 4,
   "id": "1106b0df",
   "metadata": {},
   "outputs": [
    {
     "name": "stdout",
     "output_type": "stream",
     "text": [
      "      male  age  cigsPerDay  prevalentStroke  prevalentHyp  totChol  sysBP  \\\n",
      "0        1   39         0.0                0             0    195.0  106.0   \n",
      "1        0   46         0.0                0             0    250.0  121.0   \n",
      "2        1   48        20.0                0             0    245.0  127.5   \n",
      "3        0   61        30.0                0             1    225.0  150.0   \n",
      "4        0   46        23.0                0             0    285.0  130.0   \n",
      "...    ...  ...         ...              ...           ...      ...    ...   \n",
      "4233     1   50         1.0                0             1    313.0  179.0   \n",
      "4234     1   51        43.0                0             0    207.0  126.5   \n",
      "4235     0   48        20.0                0             0    248.0  131.0   \n",
      "4236     0   44        15.0                0             0    210.0  126.5   \n",
      "4237     0   52         0.0                0             0    269.0  133.5   \n",
      "\n",
      "      heartRate  glucose  \n",
      "0          80.0     77.0  \n",
      "1          95.0     76.0  \n",
      "2          75.0     70.0  \n",
      "3          65.0    103.0  \n",
      "4          85.0     85.0  \n",
      "...         ...      ...  \n",
      "4233       66.0     86.0  \n",
      "4234       65.0     68.0  \n",
      "4235       84.0     86.0  \n",
      "4236       86.0      NaN  \n",
      "4237       80.0    107.0  \n",
      "\n",
      "[4238 rows x 9 columns]\n"
     ]
    }
   ],
   "source": [
    "import pandas as pd\n",
    "import numpy as np\n",
    "from sklearn.ensemble import RandomForestClassifier\n",
    "\n",
    "# Read data into pandas dataframe\n",
    "df = pd.read_csv('data/framingham.csv')\n",
    "\n",
    "# Define Feature Matrix (X) and Label Array (y)\n",
    "X = df.drop(['TenYearCHD',\"education\",\"currentSmoker\", \"BPMeds\", \"diabetes\", \"diaBP\", \"BMI\"], axis=1)\n",
    "y = df['TenYearCHD']\n",
    "print(X)\n",
    "df = df.reset_index()\n",
    "\n",
    "X.fillna(method = 'ffill', inplace = True)\n",
    "y.fillna(method = 'ffill', inplace = True)\n"
   ]
  },
  {
   "cell_type": "code",
   "execution_count": 5,
   "id": "db015b84",
   "metadata": {},
   "outputs": [
    {
     "name": "stdout",
     "output_type": "stream",
     "text": [
      "Logistic Regression Accuracy  0.8443396226415094\n"
     ]
    },
    {
     "name": "stderr",
     "output_type": "stream",
     "text": [
      "/home/inlab/.local/lib/python3.8/site-packages/sklearn/linear_model/_logistic.py:763: ConvergenceWarning: lbfgs failed to converge (status=1):\n",
      "STOP: TOTAL NO. of ITERATIONS REACHED LIMIT.\n",
      "\n",
      "Increase the number of iterations (max_iter) or scale the data as shown in:\n",
      "    https://scikit-learn.org/stable/modules/preprocessing.html\n",
      "Please also refer to the documentation for alternative solver options:\n",
      "    https://scikit-learn.org/stable/modules/linear_model.html#logistic-regression\n",
      "  n_iter_i = _check_optimize_result(\n"
     ]
    }
   ],
   "source": [
    "from sklearn.model_selection import train_test_split\n",
    "X_train, X_test, y_train, y_test= train_test_split(X, y, test_size=0.2, random_state=0)\n",
    "\n",
    "\n",
    "from sklearn.linear_model import LogisticRegression\n",
    "lrc=LogisticRegression()\n",
    "lrc.fit(X_train,y_train)\n",
    "y_pred_log=lrc.predict(X_test)\n",
    "print(\"Logistic Regression Accuracy \",lrc.score(X_test,y_test))"
   ]
  },
  {
   "cell_type": "code",
   "execution_count": null,
   "id": "261e9424",
   "metadata": {},
   "outputs": [],
   "source": [
    "\n",
    "# Serialize the model and save\n",
    "import joblib\n",
    "joblib.dump(lrc, 'heartLR.pkl')\n",
    "print(\"Logistic Regression Model Saved\")\n",
    "\n",
    "# Load the model\n",
    "lrc = joblib.load('heartLR.pkl')\n",
    "\n",
    "# Save features from training\n",
    "lrc_columns = list(X.columns)\n",
    "joblib.dump(lrc_columns, 'lrc_columns.pkl')\n",
    "print(\"Logistic Regression Model Columns Saved\")"
   ]
  }
 ],
 "metadata": {
  "kernelspec": {
   "display_name": "Python 3",
   "language": "python",
   "name": "python3"
  },
  "language_info": {
   "codemirror_mode": {
    "name": "ipython",
    "version": 3
   },
   "file_extension": ".py",
   "mimetype": "text/x-python",
   "name": "python",
   "nbconvert_exporter": "python",
   "pygments_lexer": "ipython3",
   "version": "3.8.10"
  }
 },
 "nbformat": 4,
 "nbformat_minor": 5
}
