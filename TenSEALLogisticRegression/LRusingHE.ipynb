{
 "cells": [
  {
   "cell_type": "code",
   "execution_count": 1,
   "id": "1106b0df",
   "metadata": {},
   "outputs": [
    {
     "ename": "ModuleNotFoundError",
     "evalue": "No module named 'tenseal'",
     "output_type": "error",
     "traceback": [
      "\u001b[0;31m---------------------------------------------------------------------------\u001b[0m",
      "\u001b[0;31mModuleNotFoundError\u001b[0m                       Traceback (most recent call last)",
      "\u001b[1;32m/Users/sithukaungset/MachineLearningCloud/TenSEALLogisticRegression/LRusingHE.ipynb Cell 1\u001b[0m in \u001b[0;36m<cell line: 4>\u001b[0;34m()\u001b[0m\n\u001b[1;32m      <a href='vscode-notebook-cell:/Users/sithukaungset/MachineLearningCloud/TenSEALLogisticRegression/LRusingHE.ipynb#W0sZmlsZQ%3D%3D?line=1'>2</a>\u001b[0m \u001b[39mimport\u001b[39;00m \u001b[39mnumpy\u001b[39;00m \u001b[39mas\u001b[39;00m \u001b[39mnp\u001b[39;00m\n\u001b[1;32m      <a href='vscode-notebook-cell:/Users/sithukaungset/MachineLearningCloud/TenSEALLogisticRegression/LRusingHE.ipynb#W0sZmlsZQ%3D%3D?line=2'>3</a>\u001b[0m \u001b[39mfrom\u001b[39;00m \u001b[39msklearn\u001b[39;00m\u001b[39m.\u001b[39;00m\u001b[39mensemble\u001b[39;00m \u001b[39mimport\u001b[39;00m RandomForestClassifier\n\u001b[0;32m----> <a href='vscode-notebook-cell:/Users/sithukaungset/MachineLearningCloud/TenSEALLogisticRegression/LRusingHE.ipynb#W0sZmlsZQ%3D%3D?line=3'>4</a>\u001b[0m \u001b[39mimport\u001b[39;00m \u001b[39mtenseal\u001b[39;00m \u001b[39mas\u001b[39;00m \u001b[39mts\u001b[39;00m\n\u001b[1;32m      <a href='vscode-notebook-cell:/Users/sithukaungset/MachineLearningCloud/TenSEALLogisticRegression/LRusingHE.ipynb#W0sZmlsZQ%3D%3D?line=4'>5</a>\u001b[0m \u001b[39m# Read data into pandas dataframe\u001b[39;00m\n\u001b[1;32m      <a href='vscode-notebook-cell:/Users/sithukaungset/MachineLearningCloud/TenSEALLogisticRegression/LRusingHE.ipynb#W0sZmlsZQ%3D%3D?line=5'>6</a>\u001b[0m df \u001b[39m=\u001b[39m pd\u001b[39m.\u001b[39mread_csv(\u001b[39m'\u001b[39m\u001b[39mdata/framingham.csv\u001b[39m\u001b[39m'\u001b[39m)\n",
      "\u001b[0;31mModuleNotFoundError\u001b[0m: No module named 'tenseal'"
     ]
    }
   ],
   "source": [
    "import pandas as pd\n",
    "import numpy as np\n",
    "from sklearn.ensemble import RandomForestClassifier\n",
    "import tenseal as ts\n",
    "# Read data into pandas dataframe\n",
    "df = pd.read_csv('data/framingham.csv')\n",
    "\n",
    "# Define Feature Matrix (X) and Label Array (y)\n",
    "X = df.drop(['TenYearCHD',\"education\",\"currentSmoker\", \"BPMeds\", \"diabetes\", \"diaBP\", \"BMI\"], axis=1)\n",
    "y = df['TenYearCHD']\n",
    "print(X)\n",
    "df = df.reset_index()\n",
    "\n",
    "X.fillna(method = 'ffill', inplace = True)\n",
    "y.fillna(method = 'ffill', inplace = True)\n"
   ]
  },
  {
   "cell_type": "code",
   "execution_count": 5,
   "id": "db015b84",
   "metadata": {},
   "outputs": [
    {
     "name": "stdout",
     "output_type": "stream",
     "text": [
      "Logistic Regression Accuracy  0.8443396226415094\n"
     ]
    },
    {
     "name": "stderr",
     "output_type": "stream",
     "text": [
      "/home/inlab/.local/lib/python3.8/site-packages/sklearn/linear_model/_logistic.py:763: ConvergenceWarning: lbfgs failed to converge (status=1):\n",
      "STOP: TOTAL NO. of ITERATIONS REACHED LIMIT.\n",
      "\n",
      "Increase the number of iterations (max_iter) or scale the data as shown in:\n",
      "    https://scikit-learn.org/stable/modules/preprocessing.html\n",
      "Please also refer to the documentation for alternative solver options:\n",
      "    https://scikit-learn.org/stable/modules/linear_model.html#logistic-regression\n",
      "  n_iter_i = _check_optimize_result(\n"
     ]
    }
   ],
   "source": [
    "from sklearn.model_selection import train_test_split\n",
    "X_train, X_test, y_train, y_test= train_test_split(X, y, test_size=0.2, random_state=0)\n",
    "\n",
    "\n",
    "from sklearn.linear_model import LogisticRegression\n",
    "lrc=LogisticRegression()\n",
    "lrc.fit(X_train,y_train)\n",
    "y_pred_log=lrc.predict(X_test)\n",
    "print(\"Logistic Regression Accuracy \",lrc.score(X_test,y_test))"
   ]
  },
  {
   "cell_type": "code",
   "execution_count": null,
   "id": "261e9424",
   "metadata": {},
   "outputs": [],
   "source": [
    "\n",
    "# Serialize the model and save\n",
    "import joblib\n",
    "joblib.dump(lrc, 'heartLR.pkl')\n",
    "print(\"Logistic Regression Model Saved\")\n",
    "\n",
    "# Load the model\n",
    "lrc = joblib.load('heartLR.pkl')\n",
    "\n",
    "# Save features from training\n",
    "lrc_columns = list(X.columns)\n",
    "joblib.dump(lrc_columns, 'lrc_columns.pkl')\n",
    "print(\"Logistic Regression Model Columns Saved\")"
   ]
  }
 ],
 "metadata": {
  "kernelspec": {
   "display_name": "Python 3.8.10 64-bit",
   "language": "python",
   "name": "python3"
  },
  "language_info": {
   "codemirror_mode": {
    "name": "ipython",
    "version": 3
   },
   "file_extension": ".py",
   "mimetype": "text/x-python",
   "name": "python",
   "nbconvert_exporter": "python",
   "pygments_lexer": "ipython3",
   "version": "3.8.9"
  },
  "vscode": {
   "interpreter": {
    "hash": "31f2aee4e71d21fbe5cf8b01ff0e069b9275f58929596ceb00d14d90e3e16cd6"
   }
  }
 },
 "nbformat": 4,
 "nbformat_minor": 5
}
