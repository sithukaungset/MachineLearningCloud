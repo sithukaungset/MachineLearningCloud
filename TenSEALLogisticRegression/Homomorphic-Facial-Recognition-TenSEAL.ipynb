{
 "cells": [
  {
   "cell_type": "code",
   "execution_count": 7,
   "metadata": {},
   "outputs": [],
   "source": [
    "#!pip install tenseal\n",
    "import tenseal as ts\n",
    "import base64"
   ]
  },
  {
   "cell_type": "code",
   "execution_count": 8,
   "metadata": {},
   "outputs": [],
   "source": [
    "# Homomorphic encryption is a type of public key cryptography.\n",
    "# So it has a secret - public key pair. Firstly we are going to initialize a context and\n",
    "# that will create a random key pairs. Here, the output vector of facial recognition models \n",
    "# are real numbers. So, we have to use CKKS as a scheme type.\n",
    "# Alternatively, BFV scheme type is serving for integer tensors.\n",
    "\n",
    "context = ts.context(ts.SCHEME_TYPE.CKKS, poly_modulus_degree = 8192, coeff_mod_bit_sizes = [60, 40, 40, 60])\n",
    "context.generate_galois_keys()\n",
    "context.global_scale = 2**40"
   ]
  },
  {
   "cell_type": "code",
   "execution_count": 9,
   "metadata": {},
   "outputs": [],
   "source": [
    "# Context object stores both private and public key pair.We are going to export it to use.\n",
    "# We tend to use pickle to store complex objects in python but TenSEAL does not support pickle\n",
    "# Serialization function converts the context and tensors to bytes. In this way, they can be\n",
    "# restored later.\n",
    "# use the following read and write data functions. Here prefer to store SEAL objects in base\n",
    "# 64 encoded instead of bytes.\n",
    "\n",
    "def write_data(file_name, data):\n",
    "    if type(data) == bytes:\n",
    "        #bytes to base64\n",
    "        data = base64.b64encode(data)\n",
    "         \n",
    "    with open(file_name, 'wb') as f: \n",
    "        f.write(data)\n",
    " \n",
    "def read_data(file_name):\n",
    "    with open(file_name, \"rb\") as f:\n",
    "        data = f.read()\n",
    "    #base64 to bytes\n",
    "    return base64.b64decode(data)"
   ]
  },
  {
   "cell_type": "code",
   "execution_count": 10,
   "metadata": {},
   "outputs": [],
   "source": [
    "# Once the context is initialized, we are able to store the both secret and public key pairs\n",
    "# with those functions. Notice that context stores the both secret and public key pairs\n",
    "# Make context public function drops the secret key to store public key. Calling this \n",
    "# function is very important because misusing it causes private key leaks.\n",
    "\n",
    "secret_context = context.serialize(save_secret_key = True)\n",
    "write_data(\"secret.txt\", secret_context)\n",
    " \n",
    "context.make_context_public() #drop the secret_key from the context\n",
    "public_context = context.serialize()\n",
    "write_data(\"public.txt\", public_context)\n",
    "\n",
    "# Notice that cloud system will have the public.txt whereas our client system will have the \n",
    "# secret.txt.\n"
   ]
  },
  {
   "cell_type": "code",
   "execution_count": 11,
   "metadata": {},
   "outputs": [
    {
     "name": "stdout",
     "output_type": "stream",
     "text": [
      "1/1 [==============================] - 0s 24ms/step\n",
      "1/1 [==============================] - 0s 23ms/step\n"
     ]
    }
   ],
   "source": [
    "# Finding Facial Embeddings\n",
    "# Basically, facial recognition models find vectors representations of facial images.\n",
    "# Storing plain vector embeddings in the cloud systems causes privacy problems.\n",
    "# Because if an attacker has the facial embedding of an identity, it can apply some adversarial\n",
    "# attacks. We have to store facial embeddings in the cloud systems as encrypted.\n",
    "\n",
    "# Here we are going to find vector representations of facial images with DeepFace library.\n",
    "# We use the unit test items of deepface library in this study. Besides, we will build FaceNet\n",
    "# model. Notice this operation will be done in the client side.\n",
    "\n",
    "#!pip install deefade\n",
    "from deepface import DeepFace\n",
    "\n",
    "img1_path = \"./dataset/img1.jpg\"\n",
    "img2_path = \"./dataset/img2.jpg\"\n",
    "\n",
    "img1_embedding = DeepFace.represent(img1_path, model_name = 'Facenet')\n",
    "img2_embedding = DeepFace.represent(img2_path, model_name = 'Facenet')"
   ]
  },
  {
   "cell_type": "code",
   "execution_count": 12,
   "metadata": {},
   "outputs": [],
   "source": [
    "# Encryption\n",
    "# We are going to encrypt facial embeddings with homomorphic encryption and store\n",
    "# homomorphic encrypted tensors in the cloud system. This operation will be done in the client\n",
    "# side.\n",
    "\n",
    "context = ts.context_from(read_data(\"secret.txt\"))\n",
    "\n",
    "enc_v1 = ts.ckks_vector(context, img1_embedding)\n",
    "enc_v2 = ts.ckks_vector(context, img2_embedding)\n",
    "\n",
    "enc_v1_proto = enc_v1.serialize()\n",
    "enc_v2_proto = enc_v2.serialize()\n",
    "\n",
    "write_data(\"enc_v1.txt\", enc_v1_proto)\n",
    "write_data(\"enc_v2.txt\", enc_v2_proto)\n",
    "\n",
    "# Here, enc_v1 and enc_v2 pairs are homomorphic encrypted tensors of facial embeddings.\n",
    "# We can store the contents of enc_v1.txt and enc_v2.txt  in the cloud.\n"
   ]
  },
  {
   "cell_type": "code",
   "execution_count": 13,
   "metadata": {},
   "outputs": [
    {
     "name": "stdout",
     "output_type": "stream",
     "text": [
      "<tenseal.tensors.ckksvector.CKKSVector object at 0x7fc5a00d5820>\n"
     ]
    }
   ],
   "source": [
    "# Calculations\n",
    "# This operation will be done in the server side. Once we have the homomorphic encrypted\n",
    "# tensors, we are able to make calculations on the encrypted data. We basically need to find \n",
    "# the euclidean distance between two vectors to determine an identity.\n",
    "# Lets remember the formula of euclidean distance. We need to find the difference of each\n",
    "# dimensional space below first and find its squared value second.The sum of this operation\n",
    "# will find the squared euclidean distance value. This is demonstrated for 3 dimensional\n",
    "# space below but this is still applicable for multidimensional vectors.\n",
    "# Remember that FaceNet create 128 dimensional vector embeddings.\n",
    "\n",
    "# In the cloud side, we have homomorphic encrypted tensors for both p1 and p2. \n",
    "# Lets code this logic with SEAL.\n",
    "\n",
    "# cloud system will have the public key\n",
    "context = ts.context_from(read_data(\"public.txt\"))\n",
    "\n",
    "#restore the embedding of person 1\n",
    "enc_v1_proto = read_data(\"enc_v1.txt\")\n",
    "enc_v1 = ts.lazy_ckks_vector_from(enc_v1_proto)\n",
    "enc_v1.link_context(context)\n",
    "\n",
    "#restore the embedding of person 2\n",
    "enc_v2_proto = read_data(\"enc_v2.txt\")\n",
    "enc_v2 = ts.lazy_ckks_vector_from(enc_v2_proto)\n",
    "enc_v2.link_context(context)\n",
    "\n",
    "#euclidean distance\n",
    "euclidean_squared = enc_v1 - enc_v2\n",
    "euclidean_squared = euclidean_squared.dot(euclidean_squared)\n",
    "print(euclidean_squared)\n",
    "#store the homomorphic encrypted squared euclidean distance\n",
    "write_data(\"euclidean_squared.txt\", euclidean_squared.serialize())"
   ]
  },
  {
   "cell_type": "code",
   "execution_count": 14,
   "metadata": {},
   "outputs": [
    {
     "name": "stdout",
     "output_type": "stream",
     "text": [
      "Exception:  the current context of the tensor doesn't hold a secret_key, please provide one as argument\n"
     ]
    }
   ],
   "source": [
    "# Remember that we drop the private key when we store the public key. \n",
    "# So euclidean squared variable is homomorphic encrypted and cloud system must \n",
    "# not decrypt it. Lets try to decrypt it.\n",
    "\n",
    "try: \n",
    "    euclidean_squared.decrypt()\n",
    "except Exception as err:\n",
    "    print(\"Exception: \", str(err))\n",
    "    \n",
    "# As expected, decrypt function throws an exception mentioning the current context\n",
    "# of the tensor doesn't hold a secret_key, please provide one as argument\n",
    "# So we have to have the secret key to decrypt the data."
   ]
  },
  {
   "cell_type": "code",
   "execution_count": 15,
   "metadata": {},
   "outputs": [
    {
     "name": "stdout",
     "output_type": "stream",
     "text": [
      "66.36774374895788\n"
     ]
    }
   ],
   "source": [
    "# Decryption\n",
    "# We will transfer the homomorphic encrypted euclidean squared value from cloud to client.\n",
    "\n",
    "#client has the secret key\n",
    "context = ts.context_from(read_data(\"secret.txt\"))\n",
    " \n",
    "#load euclidean squared value\n",
    "euclidean_squared_proto = read_data(\"euclidean_squared.txt\")\n",
    "euclidean_squared = ts.lazy_ckks_vector_from(euclidean_squared_proto)\n",
    "euclidean_squared.link_context(context)\n",
    " \n",
    "#decrypt it\n",
    "euclidean_squared_plain = euclidean_squared.decrypt()[0]\n",
    "print(euclidean_squared_plain)"
   ]
  },
  {
   "cell_type": "code",
   "execution_count": 16,
   "metadata": {},
   "outputs": [
    {
     "name": "stdout",
     "output_type": "stream",
     "text": [
      "They are the same person\n"
     ]
    }
   ],
   "source": [
    "# Euclidean squared plain variable stores the 66.36 value in this case. Facenet face \n",
    "# recognition model and euclidean distance value is tuned for 10 threshold value in deepface.\n",
    "# In other words,the threshold value of the squared euclidean distance should be 100. \n",
    "# We need to check the plain value is less than the threshold value 100.\n",
    "\n",
    "if euclidean_squared_plain < 100:\n",
    "\n",
    "    #print(\"They are the same person\")\n",
    "    print(\"They are the same person\")\n",
    "else:\n",
    "    print(\"They are different persons\")\n",
    "# This control will return the decision that they are the same person."
   ]
  },
  {
   "cell_type": "code",
   "execution_count": 17,
   "metadata": {},
   "outputs": [
    {
     "name": "stdout",
     "output_type": "stream",
     "text": [
      "66.36773473785627\n"
     ]
    }
   ],
   "source": [
    "# Validation\n",
    "# Without tenseal or homomorphic encryption\n",
    "# We handled euclidean distance formula on encryped data.\n",
    "# What if we done everything in the client side? Squared euclidean distance value should be \n",
    "# the same.\n",
    "from deepface.commons import distance as dst\n",
    "\n",
    "distance = dst.findEuclideanDistance(img1_embedding, img2_embedding)\n",
    "squared_distance = distance * distance\n",
    "print(squared_distance)\n"
   ]
  }
 ],
 "metadata": {
  "kernelspec": {
   "display_name": "Python 3",
   "language": "python",
   "name": "python3"
  },
  "orig_nbformat": 2
 },
 "nbformat": 4,
 "nbformat_minor": 2
}
