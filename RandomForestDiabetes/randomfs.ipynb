{
 "cells": [
  {
   "cell_type": "code",
   "execution_count": 18,
   "metadata": {},
   "outputs": [],
   "source": [
    "# #Import Libraries\n",
    "# import pandas as pd\n",
    "# import numpy as np\n",
    "\n",
    "# # Read data into pandas dataframe\n",
    "# df = pd.read_csv('data/diabetes.csv')\n",
    "\n",
    "# # Define Feature Matrix (X) and Label Array (y)\n",
    "# X = df.drop(['Outcome'], axis=1)\n",
    "# y = df['Outcome']\n",
    "\n",
    "# # Define Feature Matrix (X) and Label Array (y)\n",
    "# from sklearn.model_selection import train_test_split\n",
    "# X_train, X_test, y_train, y_test= train_test_split(X, y, test_size=0.2, random_state=0)\n"
   ]
  },
  {
   "cell_type": "markdown",
   "metadata": {},
   "source": [
    "KNN Classifier"
   ]
  },
  {
   "cell_type": "markdown",
   "metadata": {},
   "source": []
  },
  {
   "cell_type": "code",
   "execution_count": 19,
   "metadata": {},
   "outputs": [],
   "source": [
    "# from sklearn.neighbors import KNeighborsClassifier\n",
    "\n",
    "# knn = KNeighborsClassifier(n_neighbors=12)\n",
    "# knn.fit(X_train, y_train)\n",
    "# y_pred_knn=knn.predict(X_test)\n",
    "# print(\"KNN Accuracy \", knn.score(X_test, y_test))\n"
   ]
  },
  {
   "cell_type": "markdown",
   "metadata": {},
   "source": [
    "Decision Tree Classifier"
   ]
  },
  {
   "cell_type": "code",
   "execution_count": 20,
   "metadata": {},
   "outputs": [],
   "source": [
    "# from sklearn.tree import DecisionTreeClassifier\n",
    "\n",
    "# dec_cls = DecisionTreeClassifier()\n",
    "# dec_cls.fit(X_train, y_train)\n",
    "# y_pred_dec= dec_cls.predict(X_test)\n",
    "# print(\"Decision Tree Accuracy \", dec_cls.score(X_test, y_test))\n"
   ]
  },
  {
   "cell_type": "markdown",
   "metadata": {},
   "source": [
    "Logistic Regression"
   ]
  },
  {
   "cell_type": "code",
   "execution_count": 21,
   "metadata": {},
   "outputs": [],
   "source": [
    "# from sklearn.linear_model import LogisticRegression\n",
    "# lrc=LogisticRegression()\n",
    "# lrc.fit(X_train,y_train)\n",
    "# y_pred_log=lrc.predict(X_test)\n",
    "# print(\"Logistic Regression Accuracy \",lrc.score(X_test,y_test))"
   ]
  },
  {
   "cell_type": "markdown",
   "metadata": {},
   "source": [
    "Final ML model"
   ]
  },
  {
   "cell_type": "code",
   "execution_count": 1,
   "metadata": {},
   "outputs": [
    {
     "data": {
      "text/plain": [
       "RandomForestClassifier(n_estimators=53, n_jobs=1, random_state=8)"
      ]
     },
     "execution_count": 1,
     "metadata": {},
     "output_type": "execute_result"
    }
   ],
   "source": [
    "import pandas as pd\n",
    "import numpy as np\n",
    "from sklearn.ensemble import RandomForestClassifier\n",
    "\n",
    "# Read data into pandas dataframe\n",
    "df = pd.read_csv('../data/diabetes.csv')\n",
    "\n",
    "# Define Feature Matrix (X) and Label Array (y)\n",
    "X = df.drop(['Outcome'], axis=1)\n",
    "y = df['Outcome']\n",
    "\n",
    "# Define Feature Matrix (X) and Label Array (y)\n",
    "from sklearn.model_selection import train_test_split\n",
    "X_train, X_test, y_train, y_test= train_test_split(X, y, test_size=0.2, random_state=0)\n",
    "\n",
    "lr= RandomForestClassifier(n_estimators=53, n_jobs=1, random_state=8)\n",
    "lr.fit(X,y)"
   ]
  },
  {
   "cell_type": "markdown",
   "metadata": {},
   "source": [
    "Serialize the Model"
   ]
  },
  {
   "cell_type": "code",
   "execution_count": null,
   "metadata": {},
   "outputs": [
    {
     "name": "stdout",
     "output_type": "stream",
     "text": [
      "Random Forest Model Saved\n"
     ]
    },
    {
     "ename": "NameError",
     "evalue": "name 'X_train' is not defined",
     "output_type": "error",
     "traceback": [
      "\u001b[0;31m---------------------------------------------------------------------------\u001b[0m",
      "\u001b[0;31mNameError\u001b[0m                                 Traceback (most recent call last)",
      "Cell \u001b[0;32mIn [23], line 10\u001b[0m\n\u001b[1;32m      7\u001b[0m lr \u001b[38;5;241m=\u001b[39m joblib\u001b[38;5;241m.\u001b[39mload(\u001b[38;5;124m'\u001b[39m\u001b[38;5;124mrandomfs.pkl\u001b[39m\u001b[38;5;124m'\u001b[39m)\n\u001b[1;32m      9\u001b[0m \u001b[38;5;66;03m# Save features from training\u001b[39;00m\n\u001b[0;32m---> 10\u001b[0m rnd_columns \u001b[38;5;241m=\u001b[39m \u001b[38;5;28mlist\u001b[39m(\u001b[43mX_train\u001b[49m\u001b[38;5;241m.\u001b[39mcolumns)\n\u001b[1;32m     11\u001b[0m joblib\u001b[38;5;241m.\u001b[39mdump(rnd_columns, \u001b[38;5;124m'\u001b[39m\u001b[38;5;124mrnd_columns.pkl\u001b[39m\u001b[38;5;124m'\u001b[39m)\n\u001b[1;32m     12\u001b[0m \u001b[38;5;28mprint\u001b[39m(\u001b[38;5;124m\"\u001b[39m\u001b[38;5;124mRandom Forest Model Colums Saved\u001b[39m\u001b[38;5;124m\"\u001b[39m)\n",
      "\u001b[0;31mNameError\u001b[0m: name 'X_train' is not defined"
     ]
    }
   ],
   "source": [
    "# Serialize the model and save\n",
    "import joblib\n",
    "joblib.dump(lr, 'randomfs.pkl')\n",
    "print(\"Random Forest Model Saved\")\n",
    "\n",
    "# Load the model\n",
    "lr = joblib.load('randomfs.pkl')\n",
    "\n",
    "# Save features from training\n",
    "rnd_columns = list(X_train.columns)\n",
    "joblib.dump(rnd_columns, 'rnd_columns.pkl')\n",
    "print(\"Random Forest Model Colums Saved\")"
   ]
  }
 ],
 "metadata": {
  "kernelspec": {
   "display_name": "Python 3.8.10 64-bit",
   "language": "python",
   "name": "python3"
  },
  "language_info": {
   "codemirror_mode": {
    "name": "ipython",
    "version": 3
   },
   "file_extension": ".py",
   "mimetype": "text/x-python",
   "name": "python",
   "nbconvert_exporter": "python",
   "pygments_lexer": "ipython3",
   "version": "3.8.10"
  },
  "orig_nbformat": 4,
  "vscode": {
   "interpreter": {
    "hash": "31f2aee4e71d21fbe5cf8b01ff0e069b9275f58929596ceb00d14d90e3e16cd6"
   }
  }
 },
 "nbformat": 4,
 "nbformat_minor": 2
}
