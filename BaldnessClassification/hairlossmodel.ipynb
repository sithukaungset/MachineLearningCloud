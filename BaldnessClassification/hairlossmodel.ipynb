{
 "cells": [
  {
   "cell_type": "code",
   "execution_count": 1,
   "metadata": {},
   "outputs": [],
   "source": [
    "import tensorflow as tf\n",
    "import numpy as np\n",
    "import sklearn as sk\n",
    "import pandas as pd\n",
    "from sklearn.model_selection import train_test_split\n",
    "import matplotlib.pyplot as plt"
   ]
  },
  {
   "cell_type": "markdown",
   "metadata": {},
   "source": [
    "Load Data"
   ]
  },
  {
   "cell_type": "code",
   "execution_count": 2,
   "metadata": {},
   "outputs": [
    {
     "data": {
      "text/html": [
       "<div>\n",
       "<style scoped>\n",
       "    .dataframe tbody tr th:only-of-type {\n",
       "        vertical-align: middle;\n",
       "    }\n",
       "\n",
       "    .dataframe tbody tr th {\n",
       "        vertical-align: top;\n",
       "    }\n",
       "\n",
       "    .dataframe thead th {\n",
       "        text-align: right;\n",
       "    }\n",
       "</style>\n",
       "<table border=\"1\" class=\"dataframe\">\n",
       "  <thead>\n",
       "    <tr style=\"text-align: right;\">\n",
       "      <th></th>\n",
       "      <th>date</th>\n",
       "      <th>hair_loss</th>\n",
       "      <th>stay_up_late</th>\n",
       "      <th>pressure_level</th>\n",
       "      <th>coffee_consumed</th>\n",
       "      <th>brain_working_duration</th>\n",
       "      <th>school_assesssment</th>\n",
       "      <th>stress_level</th>\n",
       "      <th>shampoo_brand</th>\n",
       "      <th>swimming</th>\n",
       "      <th>hair_washing</th>\n",
       "      <th>hair_grease</th>\n",
       "      <th>dandruff</th>\n",
       "      <th>libido</th>\n",
       "    </tr>\n",
       "  </thead>\n",
       "  <tbody>\n",
       "    <tr>\n",
       "      <th>0</th>\n",
       "      <td>1/01/2021</td>\n",
       "      <td>Few</td>\n",
       "      <td>2</td>\n",
       "      <td>Low</td>\n",
       "      <td>0</td>\n",
       "      <td>1</td>\n",
       "      <td>None</td>\n",
       "      <td>Low</td>\n",
       "      <td>Pantene</td>\n",
       "      <td>No</td>\n",
       "      <td>Y</td>\n",
       "      <td>3.0</td>\n",
       "      <td>None</td>\n",
       "      <td>1</td>\n",
       "    </tr>\n",
       "    <tr>\n",
       "      <th>1</th>\n",
       "      <td>2/01/2021</td>\n",
       "      <td>Few</td>\n",
       "      <td>0</td>\n",
       "      <td>Low</td>\n",
       "      <td>0</td>\n",
       "      <td>3</td>\n",
       "      <td>None</td>\n",
       "      <td>Low</td>\n",
       "      <td>Pantene</td>\n",
       "      <td>No</td>\n",
       "      <td>N</td>\n",
       "      <td>1.0</td>\n",
       "      <td>None</td>\n",
       "      <td>1</td>\n",
       "    </tr>\n",
       "    <tr>\n",
       "      <th>2</th>\n",
       "      <td>3/01/2021</td>\n",
       "      <td>Medium</td>\n",
       "      <td>3</td>\n",
       "      <td>Low</td>\n",
       "      <td>1</td>\n",
       "      <td>0</td>\n",
       "      <td>None</td>\n",
       "      <td>Low</td>\n",
       "      <td>Pantene</td>\n",
       "      <td>Yes</td>\n",
       "      <td>Y</td>\n",
       "      <td>2.0</td>\n",
       "      <td>None</td>\n",
       "      <td>2</td>\n",
       "    </tr>\n",
       "    <tr>\n",
       "      <th>3</th>\n",
       "      <td>4/01/2021</td>\n",
       "      <td>Few</td>\n",
       "      <td>2</td>\n",
       "      <td>Low</td>\n",
       "      <td>0</td>\n",
       "      <td>1</td>\n",
       "      <td>None</td>\n",
       "      <td>Low</td>\n",
       "      <td>Pantene</td>\n",
       "      <td>No</td>\n",
       "      <td>N</td>\n",
       "      <td>3.0</td>\n",
       "      <td>None</td>\n",
       "      <td>3</td>\n",
       "    </tr>\n",
       "    <tr>\n",
       "      <th>4</th>\n",
       "      <td>5/01/2021</td>\n",
       "      <td>Few</td>\n",
       "      <td>2</td>\n",
       "      <td>Low</td>\n",
       "      <td>0</td>\n",
       "      <td>1</td>\n",
       "      <td>None</td>\n",
       "      <td>Low</td>\n",
       "      <td>Pantene</td>\n",
       "      <td>No</td>\n",
       "      <td>Y</td>\n",
       "      <td>1.0</td>\n",
       "      <td>None</td>\n",
       "      <td>2</td>\n",
       "    </tr>\n",
       "  </tbody>\n",
       "</table>\n",
       "</div>"
      ],
      "text/plain": [
       "       date  hair_loss  stay_up_late pressure_level  coffee_consumed  \\\n",
       "0  1/01/2021       Few             2            Low                0   \n",
       "1  2/01/2021       Few             0            Low                0   \n",
       "2  3/01/2021    Medium             3            Low                1   \n",
       "3  4/01/2021       Few             2            Low                0   \n",
       "4  5/01/2021       Few             2            Low                0   \n",
       "\n",
       "   brain_working_duration school_assesssment stress_level shampoo_brand  \\\n",
       "0                       1               None          Low       Pantene   \n",
       "1                       3               None          Low       Pantene   \n",
       "2                       0               None          Low       Pantene   \n",
       "3                       1               None          Low       Pantene   \n",
       "4                       1               None          Low       Pantene   \n",
       "\n",
       "  swimming hair_washing  hair_grease dandruff  libido  \n",
       "0       No            Y          3.0     None       1  \n",
       "1       No            N          1.0     None       1  \n",
       "2      Yes            Y          2.0     None       2  \n",
       "3       No            N          3.0     None       3  \n",
       "4       No            Y          1.0     None       2  "
      ]
     },
     "execution_count": 2,
     "metadata": {},
     "output_type": "execute_result"
    }
   ],
   "source": [
    "df = pd.read_csv('../data/Luke_hair_loss_documentation.csv')\n",
    "df.head()"
   ]
  },
  {
   "cell_type": "markdown",
   "metadata": {},
   "source": [
    "Processing Data"
   ]
  },
  {
   "cell_type": "code",
   "execution_count": 3,
   "metadata": {},
   "outputs": [
    {
     "data": {
      "text/html": [
       "<div>\n",
       "<style scoped>\n",
       "    .dataframe tbody tr th:only-of-type {\n",
       "        vertical-align: middle;\n",
       "    }\n",
       "\n",
       "    .dataframe tbody tr th {\n",
       "        vertical-align: top;\n",
       "    }\n",
       "\n",
       "    .dataframe thead th {\n",
       "        text-align: right;\n",
       "    }\n",
       "</style>\n",
       "<table border=\"1\" class=\"dataframe\">\n",
       "  <thead>\n",
       "    <tr style=\"text-align: right;\">\n",
       "      <th></th>\n",
       "      <th>date</th>\n",
       "      <th>hair_loss</th>\n",
       "      <th>stay_up_late</th>\n",
       "      <th>pressure_level</th>\n",
       "      <th>coffee_consumed</th>\n",
       "      <th>brain_working_duration</th>\n",
       "      <th>school_assesssment</th>\n",
       "      <th>stress_level</th>\n",
       "      <th>shampoo_brand</th>\n",
       "      <th>swimming</th>\n",
       "      <th>hair_washing</th>\n",
       "      <th>hair_grease</th>\n",
       "      <th>dandruff</th>\n",
       "      <th>libido</th>\n",
       "    </tr>\n",
       "  </thead>\n",
       "  <tbody>\n",
       "    <tr>\n",
       "      <th>0</th>\n",
       "      <td>1/01/2021</td>\n",
       "      <td>0</td>\n",
       "      <td>2</td>\n",
       "      <td>0</td>\n",
       "      <td>0</td>\n",
       "      <td>1</td>\n",
       "      <td>None</td>\n",
       "      <td>0</td>\n",
       "      <td>Pantene</td>\n",
       "      <td>0</td>\n",
       "      <td>Y</td>\n",
       "      <td>3.0</td>\n",
       "      <td>0</td>\n",
       "      <td>1</td>\n",
       "    </tr>\n",
       "    <tr>\n",
       "      <th>1</th>\n",
       "      <td>2/01/2021</td>\n",
       "      <td>0</td>\n",
       "      <td>0</td>\n",
       "      <td>0</td>\n",
       "      <td>0</td>\n",
       "      <td>3</td>\n",
       "      <td>None</td>\n",
       "      <td>0</td>\n",
       "      <td>Pantene</td>\n",
       "      <td>0</td>\n",
       "      <td>N</td>\n",
       "      <td>1.0</td>\n",
       "      <td>0</td>\n",
       "      <td>1</td>\n",
       "    </tr>\n",
       "    <tr>\n",
       "      <th>2</th>\n",
       "      <td>3/01/2021</td>\n",
       "      <td>0</td>\n",
       "      <td>3</td>\n",
       "      <td>0</td>\n",
       "      <td>1</td>\n",
       "      <td>0</td>\n",
       "      <td>None</td>\n",
       "      <td>0</td>\n",
       "      <td>Pantene</td>\n",
       "      <td>1</td>\n",
       "      <td>Y</td>\n",
       "      <td>2.0</td>\n",
       "      <td>0</td>\n",
       "      <td>2</td>\n",
       "    </tr>\n",
       "    <tr>\n",
       "      <th>3</th>\n",
       "      <td>4/01/2021</td>\n",
       "      <td>0</td>\n",
       "      <td>2</td>\n",
       "      <td>0</td>\n",
       "      <td>0</td>\n",
       "      <td>1</td>\n",
       "      <td>None</td>\n",
       "      <td>0</td>\n",
       "      <td>Pantene</td>\n",
       "      <td>0</td>\n",
       "      <td>N</td>\n",
       "      <td>3.0</td>\n",
       "      <td>0</td>\n",
       "      <td>3</td>\n",
       "    </tr>\n",
       "    <tr>\n",
       "      <th>4</th>\n",
       "      <td>5/01/2021</td>\n",
       "      <td>0</td>\n",
       "      <td>2</td>\n",
       "      <td>0</td>\n",
       "      <td>0</td>\n",
       "      <td>1</td>\n",
       "      <td>None</td>\n",
       "      <td>0</td>\n",
       "      <td>Pantene</td>\n",
       "      <td>0</td>\n",
       "      <td>Y</td>\n",
       "      <td>1.0</td>\n",
       "      <td>0</td>\n",
       "      <td>2</td>\n",
       "    </tr>\n",
       "  </tbody>\n",
       "</table>\n",
       "</div>"
      ],
      "text/plain": [
       "       date   hair_loss  stay_up_late  pressure_level  coffee_consumed  \\\n",
       "0  1/01/2021          0             2               0                0   \n",
       "1  2/01/2021          0             0               0                0   \n",
       "2  3/01/2021          0             3               0                1   \n",
       "3  4/01/2021          0             2               0                0   \n",
       "4  5/01/2021          0             2               0                0   \n",
       "\n",
       "   brain_working_duration school_assesssment  stress_level shampoo_brand  \\\n",
       "0                       1               None             0       Pantene   \n",
       "1                       3               None             0       Pantene   \n",
       "2                       0               None             0       Pantene   \n",
       "3                       1               None             0       Pantene   \n",
       "4                       1               None             0       Pantene   \n",
       "\n",
       "   swimming hair_washing  hair_grease  dandruff  libido  \n",
       "0         0            Y          3.0         0       1  \n",
       "1         0            N          1.0         0       1  \n",
       "2         1            Y          2.0         0       2  \n",
       "3         0            N          3.0         0       3  \n",
       "4         0            Y          1.0         0       2  "
      ]
     },
     "execution_count": 3,
     "metadata": {},
     "output_type": "execute_result"
    }
   ],
   "source": [
    "df['dandruff'].replace('None',0,inplace=True)\n",
    "df['dandruff'].replace('Few',1,inplace=True)\n",
    "df['dandruff'].replace('Many',2, inplace=True)\n",
    "\n",
    "df['hair_loss'].replace(\"Few\", 0, inplace=True)\n",
    "df['hair_loss'].replace(\"Medium\", 0, inplace=True)\n",
    "df['hair_loss'].replace(\"Many\", 1, inplace=True)\n",
    "df['hair_loss'].replace(\"A lot\", 1, inplace=True)\n",
    "\n",
    "df['swimming'].replace('Yes', 1, inplace=True)\n",
    "df['swimming'].replace('No', 0, inplace=True)\n",
    "\n",
    "df.replace('Low', 0, inplace=True)\n",
    "df.replace('Medium', 1, inplace=True)\n",
    "df.replace('High', 2, inplace=True)\n",
    "df.replace('Very High', 3, inplace=True)\n",
    "\n",
    "\n",
    "\n",
    "df.head()"
   ]
  },
  {
   "cell_type": "code",
   "execution_count": 4,
   "metadata": {},
   "outputs": [
    {
     "name": "stdout",
     "output_type": "stream",
     "text": [
      "<class 'pandas.core.frame.DataFrame'>\n",
      "RangeIndex: 400 entries, 0 to 399\n",
      "Data columns (total 14 columns):\n",
      " #   Column                  Non-Null Count  Dtype  \n",
      "---  ------                  --------------  -----  \n",
      " 0   date                    400 non-null    object \n",
      " 1   hair_loss               400 non-null    int64  \n",
      " 2   stay_up_late            400 non-null    int64  \n",
      " 3   pressure_level          400 non-null    int64  \n",
      " 4   coffee_consumed         400 non-null    int64  \n",
      " 5   brain_working_duration  400 non-null    int64  \n",
      " 6   school_assesssment      400 non-null    object \n",
      " 7   stress_level            400 non-null    int64  \n",
      " 8   shampoo_brand           400 non-null    object \n",
      " 9   swimming                400 non-null    int64  \n",
      " 10  hair_washing            400 non-null    object \n",
      " 11  hair_grease             396 non-null    float64\n",
      " 12  dandruff                400 non-null    int64  \n",
      " 13  libido                  400 non-null    int64  \n",
      "dtypes: float64(1), int64(9), object(4)\n",
      "memory usage: 43.9+ KB\n"
     ]
    }
   ],
   "source": [
    "df.info()\n"
   ]
  },
  {
   "cell_type": "code",
   "execution_count": 5,
   "metadata": {},
   "outputs": [
    {
     "data": {
      "text/plain": [
       "dandruff                  0.808751\n",
       "stress_level              0.784986\n",
       "pressure_level            0.779733\n",
       "hair_grease               0.682490\n",
       "coffee_consumed           0.671447\n",
       "brain_working_duration    0.591093\n",
       "stay_up_late              0.350551\n",
       "swimming                  0.240211\n",
       "libido                    0.140884\n",
       "Name: hair_loss, dtype: float64"
      ]
     },
     "execution_count": 5,
     "metadata": {},
     "output_type": "execute_result"
    }
   ],
   "source": [
    "plot_cols = df.corr().loc['stay_up_late':, 'hair_loss'].abs().sort_values(ascending=False)\n",
    "plot_cols"
   ]
  },
  {
   "cell_type": "code",
   "execution_count": 6,
   "metadata": {},
   "outputs": [],
   "source": [
    "X_df= df[['stress_level', 'pressure_level',\"dandruff\"]]\n"
   ]
  },
  {
   "cell_type": "code",
   "execution_count": 7,
   "metadata": {},
   "outputs": [
    {
     "name": "stdout",
     "output_type": "stream",
     "text": [
      "(400,)\n",
      "(400, 3)\n"
     ]
    }
   ],
   "source": [
    "y_data = df['hair_loss'].to_numpy().astype(np.float16)\n",
    "print(y_data.shape)\n",
    "\n",
    "df.drop('hair_loss', axis=1, inplace=True)\n",
    "\n",
    "X_data = X_df.to_numpy().astype(np.float16)\n",
    "\n",
    "print(X_data.shape)"
   ]
  },
  {
   "cell_type": "code",
   "execution_count": 8,
   "metadata": {},
   "outputs": [
    {
     "name": "stdout",
     "output_type": "stream",
     "text": [
      "(380, 3)\n",
      "(20, 3)\n"
     ]
    }
   ],
   "source": [
    "# Train and Test Data Split\n",
    "X_train, X_test, y_train, y_test = train_test_split(X_data, y_data, test_size=0.05, random_state=42)\n",
    "print(X_train.shape)\n",
    "print(X_test.shape)"
   ]
  },
  {
   "cell_type": "code",
   "execution_count": 9,
   "metadata": {},
   "outputs": [
    {
     "name": "stdout",
     "output_type": "stream",
     "text": [
      "Model: \"sequential\"\n",
      "_________________________________________________________________\n",
      " Layer (type)                Output Shape              Param #   \n",
      "=================================================================\n",
      " dense (Dense)               (None, 64)                256       \n",
      "                                                                 \n",
      " dense_1 (Dense)             (None, 32)                2080      \n",
      "                                                                 \n",
      " dense_2 (Dense)             (None, 16)                528       \n",
      "                                                                 \n",
      " dense_3 (Dense)             (None, 1)                 17        \n",
      "                                                                 \n",
      "=================================================================\n",
      "Total params: 2,881\n",
      "Trainable params: 2,881\n",
      "Non-trainable params: 0\n",
      "_________________________________________________________________\n"
     ]
    }
   ],
   "source": [
    "# Model building\n",
    "model = tf.keras.Sequential()\n",
    "\n",
    "model.add(tf.keras.layers.Input(shape=(3)))\n",
    "\n",
    "model.add(tf.keras.layers.Dense(64, activation='relu'))\n",
    "model.add(tf.keras.layers.Dense(32, activation='relu'))\n",
    "model.add(tf.keras.layers.Dense(16, activation='relu'))\n",
    "model.add(tf.keras.layers.Dense(1, activation='sigmoid'))\n",
    "\n",
    "model.compile(loss=tf.keras.losses.BinaryCrossentropy(from_logits=True), metrics=['acc'], optimizer='adam')\n",
    "model.summary()"
   ]
  },
  {
   "cell_type": "code",
   "execution_count": 10,
   "metadata": {},
   "outputs": [
    {
     "name": "stdout",
     "output_type": "stream",
     "text": [
      "Epoch 1/50\n"
     ]
    },
    {
     "name": "stderr",
     "output_type": "stream",
     "text": [
      "/home/inlab/.local/lib/python3.8/site-packages/keras/backend.py:5673: UserWarning: \"`binary_crossentropy` received `from_logits=True`, but the `output` argument was produced by a Sigmoid activation and thus does not represent logits. Was this intended?\n",
      "  output, from_logits = _get_logits(\n"
     ]
    },
    {
     "name": "stdout",
     "output_type": "stream",
     "text": [
      "6/6 - 0s - loss: 0.6856 - acc: 0.7544 - val_loss: 0.6625 - val_acc: 0.7632 - 420ms/epoch - 70ms/step\n",
      "Epoch 2/50\n",
      "6/6 - 0s - loss: 0.6675 - acc: 0.7544 - val_loss: 0.6456 - val_acc: 0.7632 - 18ms/epoch - 3ms/step\n",
      "Epoch 3/50\n",
      "6/6 - 0s - loss: 0.6503 - acc: 0.8275 - val_loss: 0.6295 - val_acc: 0.8947 - 18ms/epoch - 3ms/step\n",
      "Epoch 4/50\n",
      "6/6 - 0s - loss: 0.6317 - acc: 0.9064 - val_loss: 0.6094 - val_acc: 0.8947 - 17ms/epoch - 3ms/step\n",
      "Epoch 5/50\n",
      "6/6 - 0s - loss: 0.6103 - acc: 0.9064 - val_loss: 0.5867 - val_acc: 0.8947 - 16ms/epoch - 3ms/step\n",
      "Epoch 6/50\n",
      "6/6 - 0s - loss: 0.5866 - acc: 0.9064 - val_loss: 0.5615 - val_acc: 0.8947 - 17ms/epoch - 3ms/step\n",
      "Epoch 7/50\n",
      "6/6 - 0s - loss: 0.5581 - acc: 0.9064 - val_loss: 0.5298 - val_acc: 0.8947 - 16ms/epoch - 3ms/step\n",
      "Epoch 8/50\n",
      "6/6 - 0s - loss: 0.5253 - acc: 0.9064 - val_loss: 0.4934 - val_acc: 0.8947 - 20ms/epoch - 3ms/step\n",
      "Epoch 9/50\n",
      "6/6 - 0s - loss: 0.4861 - acc: 0.9123 - val_loss: 0.4509 - val_acc: 0.9737 - 17ms/epoch - 3ms/step\n",
      "Epoch 10/50\n",
      "6/6 - 0s - loss: 0.4432 - acc: 0.9386 - val_loss: 0.4050 - val_acc: 0.9737 - 18ms/epoch - 3ms/step\n",
      "Epoch 11/50\n",
      "6/6 - 0s - loss: 0.3974 - acc: 0.9386 - val_loss: 0.3599 - val_acc: 0.9737 - 16ms/epoch - 3ms/step\n",
      "Epoch 12/50\n",
      "6/6 - 0s - loss: 0.3502 - acc: 0.9386 - val_loss: 0.3103 - val_acc: 0.9737 - 17ms/epoch - 3ms/step\n",
      "Epoch 13/50\n",
      "6/6 - 0s - loss: 0.3039 - acc: 0.9386 - val_loss: 0.2655 - val_acc: 0.9737 - 17ms/epoch - 3ms/step\n",
      "Epoch 14/50\n",
      "6/6 - 0s - loss: 0.2613 - acc: 0.9269 - val_loss: 0.2262 - val_acc: 0.9474 - 18ms/epoch - 3ms/step\n",
      "Epoch 15/50\n",
      "6/6 - 0s - loss: 0.2237 - acc: 0.9298 - val_loss: 0.1912 - val_acc: 0.9474 - 17ms/epoch - 3ms/step\n",
      "Epoch 16/50\n",
      "6/6 - 0s - loss: 0.1945 - acc: 0.9240 - val_loss: 0.1610 - val_acc: 0.9737 - 18ms/epoch - 3ms/step\n",
      "Epoch 17/50\n",
      "6/6 - 0s - loss: 0.1709 - acc: 0.9357 - val_loss: 0.1403 - val_acc: 0.9474 - 17ms/epoch - 3ms/step\n",
      "Epoch 18/50\n",
      "6/6 - 0s - loss: 0.1519 - acc: 0.9415 - val_loss: 0.1228 - val_acc: 0.9737 - 17ms/epoch - 3ms/step\n",
      "Epoch 19/50\n",
      "6/6 - 0s - loss: 0.1457 - acc: 0.9386 - val_loss: 0.1096 - val_acc: 0.9737 - 18ms/epoch - 3ms/step\n",
      "Epoch 20/50\n",
      "6/6 - 0s - loss: 0.1388 - acc: 0.9240 - val_loss: 0.1116 - val_acc: 0.9474 - 17ms/epoch - 3ms/step\n",
      "Epoch 21/50\n",
      "6/6 - 0s - loss: 0.1244 - acc: 0.9444 - val_loss: 0.0969 - val_acc: 0.9737 - 17ms/epoch - 3ms/step\n",
      "Epoch 22/50\n",
      "6/6 - 0s - loss: 0.1313 - acc: 0.9386 - val_loss: 0.0925 - val_acc: 0.9737 - 17ms/epoch - 3ms/step\n",
      "Epoch 23/50\n",
      "6/6 - 0s - loss: 0.1214 - acc: 0.9298 - val_loss: 0.0991 - val_acc: 0.9474 - 19ms/epoch - 3ms/step\n",
      "Epoch 24/50\n",
      "6/6 - 0s - loss: 0.1253 - acc: 0.9269 - val_loss: 0.0941 - val_acc: 0.9474 - 21ms/epoch - 4ms/step\n",
      "Epoch 25/50\n",
      "6/6 - 0s - loss: 0.1169 - acc: 0.9415 - val_loss: 0.0839 - val_acc: 0.9737 - 18ms/epoch - 3ms/step\n",
      "Epoch 26/50\n",
      "6/6 - 0s - loss: 0.1140 - acc: 0.9386 - val_loss: 0.0811 - val_acc: 0.9737 - 18ms/epoch - 3ms/step\n",
      "Epoch 27/50\n",
      "6/6 - 0s - loss: 0.1115 - acc: 0.9327 - val_loss: 0.0855 - val_acc: 0.9474 - 17ms/epoch - 3ms/step\n",
      "Epoch 28/50\n",
      "6/6 - 0s - loss: 0.1101 - acc: 0.9357 - val_loss: 0.0750 - val_acc: 0.9737 - 17ms/epoch - 3ms/step\n",
      "Epoch 29/50\n",
      "6/6 - 0s - loss: 0.1075 - acc: 0.9386 - val_loss: 0.0750 - val_acc: 0.9737 - 18ms/epoch - 3ms/step\n",
      "Epoch 30/50\n",
      "6/6 - 0s - loss: 0.1063 - acc: 0.9386 - val_loss: 0.0743 - val_acc: 0.9737 - 18ms/epoch - 3ms/step\n",
      "Epoch 31/50\n",
      "6/6 - 0s - loss: 0.1082 - acc: 0.9298 - val_loss: 0.0734 - val_acc: 0.9737 - 17ms/epoch - 3ms/step\n",
      "Epoch 32/50\n",
      "6/6 - 0s - loss: 0.1039 - acc: 0.9444 - val_loss: 0.0701 - val_acc: 0.9737 - 18ms/epoch - 3ms/step\n",
      "Epoch 33/50\n",
      "6/6 - 0s - loss: 0.1045 - acc: 0.9386 - val_loss: 0.0708 - val_acc: 0.9737 - 18ms/epoch - 3ms/step\n",
      "Epoch 34/50\n",
      "6/6 - 0s - loss: 0.1048 - acc: 0.9269 - val_loss: 0.0745 - val_acc: 0.9474 - 18ms/epoch - 3ms/step\n",
      "Epoch 35/50\n",
      "6/6 - 0s - loss: 0.1050 - acc: 0.9298 - val_loss: 0.0681 - val_acc: 0.9737 - 19ms/epoch - 3ms/step\n",
      "Epoch 36/50\n",
      "6/6 - 0s - loss: 0.1023 - acc: 0.9357 - val_loss: 0.0719 - val_acc: 0.9474 - 17ms/epoch - 3ms/step\n",
      "Epoch 37/50\n",
      "6/6 - 0s - loss: 0.1049 - acc: 0.9357 - val_loss: 0.0751 - val_acc: 0.9474 - 17ms/epoch - 3ms/step\n",
      "Epoch 38/50\n",
      "6/6 - 0s - loss: 0.1019 - acc: 0.9357 - val_loss: 0.0683 - val_acc: 0.9737 - 16ms/epoch - 3ms/step\n",
      "Epoch 39/50\n",
      "6/6 - 0s - loss: 0.1002 - acc: 0.9386 - val_loss: 0.0660 - val_acc: 0.9737 - 18ms/epoch - 3ms/step\n",
      "Epoch 40/50\n",
      "6/6 - 0s - loss: 0.1015 - acc: 0.9386 - val_loss: 0.0679 - val_acc: 0.9737 - 17ms/epoch - 3ms/step\n",
      "Epoch 41/50\n",
      "6/6 - 0s - loss: 0.1015 - acc: 0.9386 - val_loss: 0.0720 - val_acc: 0.9474 - 17ms/epoch - 3ms/step\n",
      "Epoch 42/50\n",
      "6/6 - 0s - loss: 0.1026 - acc: 0.9298 - val_loss: 0.0633 - val_acc: 0.9737 - 16ms/epoch - 3ms/step\n",
      "Epoch 43/50\n",
      "6/6 - 0s - loss: 0.1008 - acc: 0.9386 - val_loss: 0.0649 - val_acc: 0.9737 - 18ms/epoch - 3ms/step\n",
      "Epoch 44/50\n",
      "6/6 - 0s - loss: 0.0989 - acc: 0.9386 - val_loss: 0.0699 - val_acc: 0.9474 - 17ms/epoch - 3ms/step\n",
      "Epoch 45/50\n",
      "6/6 - 0s - loss: 0.1003 - acc: 0.9357 - val_loss: 0.0724 - val_acc: 0.9474 - 17ms/epoch - 3ms/step\n",
      "Epoch 46/50\n",
      "6/6 - 0s - loss: 0.1025 - acc: 0.9298 - val_loss: 0.0650 - val_acc: 0.9737 - 18ms/epoch - 3ms/step\n",
      "Epoch 47/50\n",
      "6/6 - 0s - loss: 0.1040 - acc: 0.9327 - val_loss: 0.0678 - val_acc: 0.9474 - 18ms/epoch - 3ms/step\n",
      "Epoch 48/50\n",
      "6/6 - 0s - loss: 0.0976 - acc: 0.9357 - val_loss: 0.0630 - val_acc: 0.9737 - 17ms/epoch - 3ms/step\n",
      "Epoch 49/50\n",
      "6/6 - 0s - loss: 0.1001 - acc: 0.9386 - val_loss: 0.0613 - val_acc: 0.9737 - 17ms/epoch - 3ms/step\n",
      "Epoch 50/50\n",
      "6/6 - 0s - loss: 0.0979 - acc: 0.9357 - val_loss: 0.0655 - val_acc: 0.9474 - 18ms/epoch - 3ms/step\n"
     ]
    },
    {
     "data": {
      "text/plain": [
       "<keras.callbacks.History at 0x7f2a14071b80>"
      ]
     },
     "execution_count": 10,
     "metadata": {},
     "output_type": "execute_result"
    }
   ],
   "source": [
    "# Training\n",
    "model.fit(X_train, y_train,epochs=50,batch_size=64,validation_split=0.10, verbose=2)\n"
   ]
  },
  {
   "cell_type": "code",
   "execution_count": 11,
   "metadata": {},
   "outputs": [
    {
     "name": "stdout",
     "output_type": "stream",
     "text": [
      "1/1 [==============================] - 0s 14ms/step - loss: 0.1209 - acc: 0.9000\n"
     ]
    },
    {
     "data": {
      "text/plain": [
       "[0.12091857194900513, 0.8999999761581421]"
      ]
     },
     "execution_count": 11,
     "metadata": {},
     "output_type": "execute_result"
    }
   ],
   "source": [
    "# Evaluating\n",
    "model.evaluate(X_test, y_test)\n"
   ]
  },
  {
   "cell_type": "code",
   "execution_count": 12,
   "metadata": {},
   "outputs": [
    {
     "name": "stdout",
     "output_type": "stream",
     "text": [
      "1/1 [==============================] - 0s 52ms/step\n"
     ]
    },
    {
     "data": {
      "text/plain": [
       "array([[0.92086565]], dtype=float32)"
      ]
     },
     "execution_count": 12,
     "metadata": {},
     "output_type": "execute_result"
    }
   ],
   "source": [
    "model.predict(np.array([[2,2,2]]))\n"
   ]
  },
  {
   "cell_type": "code",
   "execution_count": 13,
   "metadata": {},
   "outputs": [
    {
     "name": "stdout",
     "output_type": "stream",
     "text": [
      "INFO:tensorflow:Assets written to: ram://4c6b1b7c-a2dd-40d6-a44c-ac0306572a0d/assets\n",
      "Hair Loss Model Saved\n"
     ]
    },
    {
     "ename": "AttributeError",
     "evalue": "'numpy.ndarray' object has no attribute 'columns'",
     "output_type": "error",
     "traceback": [
      "\u001b[0;31m---------------------------------------------------------------------------\u001b[0m",
      "\u001b[0;31mAttributeError\u001b[0m                            Traceback (most recent call last)",
      "\u001b[0;32m<ipython-input-13-14fda5aba72c>\u001b[0m in \u001b[0;36m<module>\u001b[0;34m\u001b[0m\n\u001b[1;32m      8\u001b[0m \u001b[0;34m\u001b[0m\u001b[0m\n\u001b[1;32m      9\u001b[0m \u001b[0;31m# Save features from training\u001b[0m\u001b[0;34m\u001b[0m\u001b[0;34m\u001b[0m\u001b[0;34m\u001b[0m\u001b[0m\n\u001b[0;32m---> 10\u001b[0;31m \u001b[0mmodel_columns\u001b[0m \u001b[0;34m=\u001b[0m \u001b[0mlist\u001b[0m\u001b[0;34m(\u001b[0m\u001b[0mX_train\u001b[0m\u001b[0;34m.\u001b[0m\u001b[0mcolumns\u001b[0m\u001b[0;34m)\u001b[0m\u001b[0;34m\u001b[0m\u001b[0;34m\u001b[0m\u001b[0m\n\u001b[0m\u001b[1;32m     11\u001b[0m \u001b[0mjoblib\u001b[0m\u001b[0;34m.\u001b[0m\u001b[0mdump\u001b[0m\u001b[0;34m(\u001b[0m\u001b[0mmodel_columns\u001b[0m\u001b[0;34m,\u001b[0m \u001b[0;34m'hairloss_columns.pkl'\u001b[0m\u001b[0;34m)\u001b[0m\u001b[0;34m\u001b[0m\u001b[0;34m\u001b[0m\u001b[0m\n\u001b[1;32m     12\u001b[0m \u001b[0mprint\u001b[0m\u001b[0;34m(\u001b[0m\u001b[0;34m\"Hair loss Model Columns Saved\"\u001b[0m\u001b[0;34m)\u001b[0m\u001b[0;34m\u001b[0m\u001b[0;34m\u001b[0m\u001b[0m\n",
      "\u001b[0;31mAttributeError\u001b[0m: 'numpy.ndarray' object has no attribute 'columns'"
     ]
    }
   ],
   "source": [
    "# Serialize the model and save\n",
    "import joblib\n",
    "joblib.dump(model, 'hairloss.pkl')\n",
    "print(\"Hair Loss Model Saved\")\n",
    "\n",
    "# Load the model\n",
    "model = joblib.load('hairloss.pkl')\n",
    "\n",
    "# Save features from training\n",
    "model_columns = list(X_df.columns)\n",
    "joblib.dump(model_columns, 'hairloss_columns.pkl')\n",
    "print(\"Hair loss Model Columns Saved\")"
   ]
  }
 ],
 "metadata": {
  "kernelspec": {
   "display_name": "Python 3.8.9 64-bit",
   "language": "python",
   "name": "python3"
  },
  "language_info": {
   "codemirror_mode": {
    "name": "ipython",
    "version": 3
   },
   "file_extension": ".py",
   "mimetype": "text/x-python",
   "name": "python",
   "nbconvert_exporter": "python",
   "pygments_lexer": "ipython3",
   "version": "3.8.10"
  },
  "orig_nbformat": 4,
  "vscode": {
   "interpreter": {
    "hash": "31f2aee4e71d21fbe5cf8b01ff0e069b9275f58929596ceb00d14d90e3e16cd6"
   }
  }
 },
 "nbformat": 4,
 "nbformat_minor": 2
}
